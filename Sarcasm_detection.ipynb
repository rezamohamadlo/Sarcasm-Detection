{
  "nbformat": 4,
  "nbformat_minor": 0,
  "metadata": {
    "colab": {
      "provenance": [],
      "gpuType": "T4",
      "authorship_tag": "ABX9TyMjnXKKnY4Ptp2olJOdQMlj",
      "include_colab_link": true
    },
    "kernelspec": {
      "name": "python3",
      "display_name": "Python 3"
    },
    "language_info": {
      "name": "python"
    },
    "accelerator": "GPU"
  },
  "cells": [
    {
      "cell_type": "markdown",
      "metadata": {
        "id": "view-in-github",
        "colab_type": "text"
      },
      "source": [
        "<a href=\"https://colab.research.google.com/github/rezamohamadlo/SarcasmDetectionUsingLSTM/blob/main/Sarcasm_detection.ipynb\" target=\"_parent\"><img src=\"https://colab.research.google.com/assets/colab-badge.svg\" alt=\"Open In Colab\"/></a>"
      ]
    },
    {
      "cell_type": "code",
      "source": [
        "# Importing necessary libraries\n",
        "import json  # For working with JSON data\n",
        "import numpy as np  # For numerical operations and array handling\n",
        "from tensorflow.keras.preprocessing.text import Tokenizer  # For text tokenization and vectorization\n",
        "from tensorflow.keras.preprocessing.sequence import pad_sequences  # For padding sequences to ensure uniform input size\n",
        "import tensorflow as tf  # For creating and training neural network models\n",
        "import matplotlib.pyplot as plt  # For plotting and visualizing data"
      ],
      "metadata": {
        "id": "-9XSAzwQNRox"
      },
      "execution_count": 1,
      "outputs": []
    },
    {
      "cell_type": "code",
      "execution_count": 2,
      "metadata": {
        "colab": {
          "base_uri": "https://localhost:8080/"
        },
        "id": "ozoXyy5I4pII",
        "outputId": "7a661732-6372-424c-e4dd-80da7199ec06"
      },
      "outputs": [
        {
          "output_type": "stream",
          "name": "stdout",
          "text": [
            "--2024-09-06 12:07:34--  https://storage.googleapis.com/tensorflow-1-public/course3/sarcasm.json\n",
            "Resolving storage.googleapis.com (storage.googleapis.com)... 74.125.137.207, 142.250.101.207, 142.251.2.207, ...\n",
            "Connecting to storage.googleapis.com (storage.googleapis.com)|74.125.137.207|:443... connected.\n",
            "HTTP request sent, awaiting response... 200 OK\n",
            "Length: 5643545 (5.4M) [application/json]\n",
            "Saving to: ‘sarcasm.json’\n",
            "\n",
            "sarcasm.json        100%[===================>]   5.38M  --.-KB/s    in 0.1s    \n",
            "\n",
            "2024-09-06 12:07:35 (46.7 MB/s) - ‘sarcasm.json’ saved [5643545/5643545]\n",
            "\n"
          ]
        }
      ],
      "source": [
        "# Download the dataset from the provided URL using wget\n",
        "!wget https://storage.googleapis.com/tensorflow-1-public/course3/sarcasm.json\n"
      ]
    },
    {
      "cell_type": "code",
      "source": [
        "# Load the JSON file and parse it into a Python dictionary\n",
        "with open(\"./sarcasm.json\", 'r') as f:\n",
        "    datastore = json.load(f)  # Reading and loading the JSON data\n",
        "\n",
        "# Initialize empty lists to hold sentences and their corresponding labels\n",
        "sentences = []  # Will store the headlines\n",
        "labels = []  # Will store the sarcasm labels (1 for sarcastic, 0 for not sarcastic)\n",
        "\n",
        "# Iterate through each item in the datastore\n",
        "for item in datastore:\n",
        "    sentences.append(item['headline'])  # Append the headline to the sentences list\n",
        "    labels.append(item['is_sarcastic'])  # Append the sarcasm label to the labels list\n"
      ],
      "metadata": {
        "id": "E3ihmZz04p0E"
      },
      "execution_count": 3,
      "outputs": []
    },
    {
      "cell_type": "code",
      "source": [
        "# Define the size of the training dataset\n",
        "training_size = 22000  # Number of samples to be used for training\n",
        "\n",
        "# Split the sentences into training and testing sets\n",
        "training_sentences = sentences[0:training_size]  # First `training_size` sentences for training\n",
        "testing_sentences = sentences[training_size:]  # Remaining sentences for testing\n",
        "\n",
        "# Split the labels into training and testing sets\n",
        "training_labels = labels[0:training_size]  # Labels corresponding to training sentences\n",
        "testing_labels = labels[training_size:]  # Labels corresponding to testing sentences\n",
        "\n",
        "# Print the number of sentences in the training and testing sets\n",
        "print(len(training_sentences))  # Output the number of training sentences\n",
        "print(len(testing_sentences))  # Output the number of testing sentences\n"
      ],
      "metadata": {
        "colab": {
          "base_uri": "https://localhost:8080/"
        },
        "id": "Rt1SssYO4vEP",
        "outputId": "4969d5ef-8521-4763-c4d3-96e99df1b686"
      },
      "execution_count": 4,
      "outputs": [
        {
          "output_type": "stream",
          "name": "stdout",
          "text": [
            "22000\n",
            "4709\n"
          ]
        }
      ]
    },
    {
      "cell_type": "code",
      "source": [
        "# Define parameters for text preprocessing\n",
        "vocab_size = 10000  # Maximum number of unique words to consider in the vocabulary\n",
        "max_length = 120  # Maximum length of sequences (pad or truncate to this length)\n",
        "trunc_type = 'post'  # Truncate sequences at the end if they exceed `max_length`\n",
        "padding_type = 'post'  # Pad sequences at the end if they are shorter than `max_length`\n",
        "oov_tok = \"<OOV>\"  # Token to use for out-of-vocabulary words\n",
        "\n",
        "# Initialize the Tokenizer class with specified parameters\n",
        "tokenizer = Tokenizer(num_words=vocab_size, oov_token=oov_tok)\n",
        "\n",
        "# Fit the tokenizer on the training sentences to build the word index\n",
        "tokenizer.fit_on_texts(training_sentences)\n",
        "word_index = tokenizer.word_index  # Retrieve the dictionary mapping words to their integer indices\n",
        "\n",
        "# Convert training sentences to sequences of integers and pad them\n",
        "training_sequences = tokenizer.texts_to_sequences(training_sentences)  # Convert text to integer sequences\n",
        "training_padded = pad_sequences(training_sequences, maxlen=max_length, padding=padding_type, truncating=trunc_type)  # Pad or truncate sequences\n",
        "\n",
        "# Convert testing sentences to sequences of integers and pad them\n",
        "testing_sequences = tokenizer.texts_to_sequences(testing_sentences)  # Convert text to integer sequences\n",
        "testing_padded = pad_sequences(testing_sequences, maxlen=max_length, padding=padding_type, truncating=trunc_type)  # Pad or truncate sequences\n",
        "\n",
        "# Convert labels lists to numpy arrays for model compatibility\n",
        "training_labels = np.array(training_labels)  # Convert training labels to numpy array\n",
        "testing_labels = np.array(testing_labels)  # Convert testing labels to numpy array\n"
      ],
      "metadata": {
        "id": "hzhZufKP4_IN"
      },
      "execution_count": 5,
      "outputs": []
    },
    {
      "cell_type": "code",
      "source": [
        "# Define parameters for the model\n",
        "embedding_dim = 16  # Dimension of the embedding vector\n",
        "dense_dim = 6  # Number of units in the dense layer\n",
        "lstm_dim = 32  # Number of units in the LSTM layer\n",
        "\n",
        "# Define the model architecture using Conv1D\n",
        "model_conv = tf.keras.Sequential([\n",
        "    # Embedding layer to convert integer sequences into dense vectors\n",
        "    tf.keras.layers.Embedding(vocab_size, embedding_dim, input_length=max_length),\n",
        "\n",
        "    # Bidirectional LSTM layer to capture context from both directions\n",
        "    tf.keras.layers.Bidirectional(tf.keras.layers.LSTM(lstm_dim)),\n",
        "\n",
        "    # Dropout layer for regularization to prevent overfitting\n",
        "    tf.keras.layers.Dropout(0.3),\n",
        "\n",
        "    # Dense layer with ReLU activation for learning non-linear representations\n",
        "    tf.keras.layers.Dense(dense_dim, activation='relu'),\n",
        "\n",
        "    # Output layer with sigmoid activation for binary classification\n",
        "    tf.keras.layers.Dense(1, activation='sigmoid')\n",
        "])\n",
        "\n",
        "# Compile the model with binary crossentropy loss and Adam optimizer\n",
        "model_conv.compile(loss='binary_crossentropy', optimizer='adam', metrics=['accuracy'])\n",
        "\n",
        "# Print the model summary to inspect the model architecture and parameters\n",
        "model_conv.summary()\n"
      ],
      "metadata": {
        "colab": {
          "base_uri": "https://localhost:8080/",
          "height": 328
        },
        "id": "j9vRz88g5Sd0",
        "outputId": "a773aa41-382d-4103-8db1-8834bc9cd830"
      },
      "execution_count": 6,
      "outputs": [
        {
          "output_type": "stream",
          "name": "stderr",
          "text": [
            "/usr/local/lib/python3.10/dist-packages/keras/src/layers/core/embedding.py:90: UserWarning: Argument `input_length` is deprecated. Just remove it.\n",
            "  warnings.warn(\n"
          ]
        },
        {
          "output_type": "display_data",
          "data": {
            "text/plain": [
              "\u001b[1mModel: \"sequential\"\u001b[0m\n"
            ],
            "text/html": [
              "<pre style=\"white-space:pre;overflow-x:auto;line-height:normal;font-family:Menlo,'DejaVu Sans Mono',consolas,'Courier New',monospace\"><span style=\"font-weight: bold\">Model: \"sequential\"</span>\n",
              "</pre>\n"
            ]
          },
          "metadata": {}
        },
        {
          "output_type": "display_data",
          "data": {
            "text/plain": [
              "┏━━━━━━━━━━━━━━━━━━━━━━━━━━━━━━━━━━━━━━┳━━━━━━━━━━━━━━━━━━━━━━━━━━━━━┳━━━━━━━━━━━━━━━━━┓\n",
              "┃\u001b[1m \u001b[0m\u001b[1mLayer (type)                        \u001b[0m\u001b[1m \u001b[0m┃\u001b[1m \u001b[0m\u001b[1mOutput Shape               \u001b[0m\u001b[1m \u001b[0m┃\u001b[1m \u001b[0m\u001b[1m        Param #\u001b[0m\u001b[1m \u001b[0m┃\n",
              "┡━━━━━━━━━━━━━━━━━━━━━━━━━━━━━━━━━━━━━━╇━━━━━━━━━━━━━━━━━━━━━━━━━━━━━╇━━━━━━━━━━━━━━━━━┩\n",
              "│ embedding (\u001b[38;5;33mEmbedding\u001b[0m)                │ ?                           │     \u001b[38;5;34m0\u001b[0m (unbuilt) │\n",
              "├──────────────────────────────────────┼─────────────────────────────┼─────────────────┤\n",
              "│ bidirectional (\u001b[38;5;33mBidirectional\u001b[0m)        │ ?                           │     \u001b[38;5;34m0\u001b[0m (unbuilt) │\n",
              "├──────────────────────────────────────┼─────────────────────────────┼─────────────────┤\n",
              "│ dropout (\u001b[38;5;33mDropout\u001b[0m)                    │ ?                           │     \u001b[38;5;34m0\u001b[0m (unbuilt) │\n",
              "├──────────────────────────────────────┼─────────────────────────────┼─────────────────┤\n",
              "│ dense (\u001b[38;5;33mDense\u001b[0m)                        │ ?                           │     \u001b[38;5;34m0\u001b[0m (unbuilt) │\n",
              "├──────────────────────────────────────┼─────────────────────────────┼─────────────────┤\n",
              "│ dense_1 (\u001b[38;5;33mDense\u001b[0m)                      │ ?                           │     \u001b[38;5;34m0\u001b[0m (unbuilt) │\n",
              "└──────────────────────────────────────┴─────────────────────────────┴─────────────────┘\n"
            ],
            "text/html": [
              "<pre style=\"white-space:pre;overflow-x:auto;line-height:normal;font-family:Menlo,'DejaVu Sans Mono',consolas,'Courier New',monospace\">┏━━━━━━━━━━━━━━━━━━━━━━━━━━━━━━━━━━━━━━┳━━━━━━━━━━━━━━━━━━━━━━━━━━━━━┳━━━━━━━━━━━━━━━━━┓\n",
              "┃<span style=\"font-weight: bold\"> Layer (type)                         </span>┃<span style=\"font-weight: bold\"> Output Shape                </span>┃<span style=\"font-weight: bold\">         Param # </span>┃\n",
              "┡━━━━━━━━━━━━━━━━━━━━━━━━━━━━━━━━━━━━━━╇━━━━━━━━━━━━━━━━━━━━━━━━━━━━━╇━━━━━━━━━━━━━━━━━┩\n",
              "│ embedding (<span style=\"color: #0087ff; text-decoration-color: #0087ff\">Embedding</span>)                │ ?                           │     <span style=\"color: #00af00; text-decoration-color: #00af00\">0</span> (unbuilt) │\n",
              "├──────────────────────────────────────┼─────────────────────────────┼─────────────────┤\n",
              "│ bidirectional (<span style=\"color: #0087ff; text-decoration-color: #0087ff\">Bidirectional</span>)        │ ?                           │     <span style=\"color: #00af00; text-decoration-color: #00af00\">0</span> (unbuilt) │\n",
              "├──────────────────────────────────────┼─────────────────────────────┼─────────────────┤\n",
              "│ dropout (<span style=\"color: #0087ff; text-decoration-color: #0087ff\">Dropout</span>)                    │ ?                           │     <span style=\"color: #00af00; text-decoration-color: #00af00\">0</span> (unbuilt) │\n",
              "├──────────────────────────────────────┼─────────────────────────────┼─────────────────┤\n",
              "│ dense (<span style=\"color: #0087ff; text-decoration-color: #0087ff\">Dense</span>)                        │ ?                           │     <span style=\"color: #00af00; text-decoration-color: #00af00\">0</span> (unbuilt) │\n",
              "├──────────────────────────────────────┼─────────────────────────────┼─────────────────┤\n",
              "│ dense_1 (<span style=\"color: #0087ff; text-decoration-color: #0087ff\">Dense</span>)                      │ ?                           │     <span style=\"color: #00af00; text-decoration-color: #00af00\">0</span> (unbuilt) │\n",
              "└──────────────────────────────────────┴─────────────────────────────┴─────────────────┘\n",
              "</pre>\n"
            ]
          },
          "metadata": {}
        },
        {
          "output_type": "display_data",
          "data": {
            "text/plain": [
              "\u001b[1m Total params: \u001b[0m\u001b[38;5;34m0\u001b[0m (0.00 B)\n"
            ],
            "text/html": [
              "<pre style=\"white-space:pre;overflow-x:auto;line-height:normal;font-family:Menlo,'DejaVu Sans Mono',consolas,'Courier New',monospace\"><span style=\"font-weight: bold\"> Total params: </span><span style=\"color: #00af00; text-decoration-color: #00af00\">0</span> (0.00 B)\n",
              "</pre>\n"
            ]
          },
          "metadata": {}
        },
        {
          "output_type": "display_data",
          "data": {
            "text/plain": [
              "\u001b[1m Trainable params: \u001b[0m\u001b[38;5;34m0\u001b[0m (0.00 B)\n"
            ],
            "text/html": [
              "<pre style=\"white-space:pre;overflow-x:auto;line-height:normal;font-family:Menlo,'DejaVu Sans Mono',consolas,'Courier New',monospace\"><span style=\"font-weight: bold\"> Trainable params: </span><span style=\"color: #00af00; text-decoration-color: #00af00\">0</span> (0.00 B)\n",
              "</pre>\n"
            ]
          },
          "metadata": {}
        },
        {
          "output_type": "display_data",
          "data": {
            "text/plain": [
              "\u001b[1m Non-trainable params: \u001b[0m\u001b[38;5;34m0\u001b[0m (0.00 B)\n"
            ],
            "text/html": [
              "<pre style=\"white-space:pre;overflow-x:auto;line-height:normal;font-family:Menlo,'DejaVu Sans Mono',consolas,'Courier New',monospace\"><span style=\"font-weight: bold\"> Non-trainable params: </span><span style=\"color: #00af00; text-decoration-color: #00af00\">0</span> (0.00 B)\n",
              "</pre>\n"
            ]
          },
          "metadata": {}
        }
      ]
    },
    {
      "cell_type": "code",
      "source": [
        "# Define the number of epochs for training\n",
        "NUM_EPOCHS = 10  # Number of epochs to train the model\n",
        "\n",
        "# Train the model using the training data and validate on the testing data\n",
        "history_conv = model_conv.fit(\n",
        "    training_padded,  # Training data (padded sequences)\n",
        "    training_labels,  # Training labels\n",
        "    epochs=NUM_EPOCHS,  # Number of epochs to train the model\n",
        "    validation_data=(testing_padded, testing_labels)  # Validation data and labels for evaluation during training\n",
        ")\n"
      ],
      "metadata": {
        "colab": {
          "base_uri": "https://localhost:8080/"
        },
        "id": "kTCfM7qB6DlT",
        "outputId": "cd738f2c-ce42-4eb0-a3c3-78db5478b8ef"
      },
      "execution_count": 7,
      "outputs": [
        {
          "output_type": "stream",
          "name": "stdout",
          "text": [
            "Epoch 1/10\n",
            "\u001b[1m688/688\u001b[0m \u001b[32m━━━━━━━━━━━━━━━━━━━━\u001b[0m\u001b[37m\u001b[0m \u001b[1m27s\u001b[0m 21ms/step - accuracy: 0.6915 - loss: 0.5365 - val_accuracy: 0.8590 - val_loss: 0.3305\n",
            "Epoch 2/10\n",
            "\u001b[1m688/688\u001b[0m \u001b[32m━━━━━━━━━━━━━━━━━━━━\u001b[0m\u001b[37m\u001b[0m \u001b[1m10s\u001b[0m 15ms/step - accuracy: 0.9099 - loss: 0.2278 - val_accuracy: 0.8535 - val_loss: 0.3407\n",
            "Epoch 3/10\n",
            "\u001b[1m688/688\u001b[0m \u001b[32m━━━━━━━━━━━━━━━━━━━━\u001b[0m\u001b[37m\u001b[0m \u001b[1m20s\u001b[0m 14ms/step - accuracy: 0.9433 - loss: 0.1551 - val_accuracy: 0.8539 - val_loss: 0.3925\n",
            "Epoch 4/10\n",
            "\u001b[1m688/688\u001b[0m \u001b[32m━━━━━━━━━━━━━━━━━━━━\u001b[0m\u001b[37m\u001b[0m \u001b[1m10s\u001b[0m 14ms/step - accuracy: 0.9603 - loss: 0.1061 - val_accuracy: 0.8501 - val_loss: 0.4557\n",
            "Epoch 5/10\n",
            "\u001b[1m688/688\u001b[0m \u001b[32m━━━━━━━━━━━━━━━━━━━━\u001b[0m\u001b[37m\u001b[0m \u001b[1m9s\u001b[0m 13ms/step - accuracy: 0.9758 - loss: 0.0685 - val_accuracy: 0.8473 - val_loss: 0.5362\n",
            "Epoch 6/10\n",
            "\u001b[1m688/688\u001b[0m \u001b[32m━━━━━━━━━━━━━━━━━━━━\u001b[0m\u001b[37m\u001b[0m \u001b[1m10s\u001b[0m 12ms/step - accuracy: 0.9838 - loss: 0.0503 - val_accuracy: 0.8424 - val_loss: 0.6510\n",
            "Epoch 7/10\n",
            "\u001b[1m688/688\u001b[0m \u001b[32m━━━━━━━━━━━━━━━━━━━━\u001b[0m\u001b[37m\u001b[0m \u001b[1m9s\u001b[0m 14ms/step - accuracy: 0.9900 - loss: 0.0317 - val_accuracy: 0.8407 - val_loss: 0.7684\n",
            "Epoch 8/10\n",
            "\u001b[1m688/688\u001b[0m \u001b[32m━━━━━━━━━━━━━━━━━━━━\u001b[0m\u001b[37m\u001b[0m \u001b[1m10s\u001b[0m 14ms/step - accuracy: 0.9933 - loss: 0.0205 - val_accuracy: 0.8367 - val_loss: 0.8414\n",
            "Epoch 9/10\n",
            "\u001b[1m688/688\u001b[0m \u001b[32m━━━━━━━━━━━━━━━━━━━━\u001b[0m\u001b[37m\u001b[0m \u001b[1m9s\u001b[0m 14ms/step - accuracy: 0.9960 - loss: 0.0131 - val_accuracy: 0.8282 - val_loss: 1.0625\n",
            "Epoch 10/10\n",
            "\u001b[1m688/688\u001b[0m \u001b[32m━━━━━━━━━━━━━━━━━━━━\u001b[0m\u001b[37m\u001b[0m \u001b[1m9s\u001b[0m 12ms/step - accuracy: 0.9958 - loss: 0.0139 - val_accuracy: 0.8331 - val_loss: 1.0634\n"
          ]
        }
      ]
    },
    {
      "cell_type": "code",
      "source": [
        "# Utility function to plot training and validation metrics\n",
        "def plot_graphs(history, string):\n",
        "    \"\"\"\n",
        "    Plots the training and validation metrics over epochs.\n",
        "\n",
        "    Parameters:\n",
        "    history (tf.keras.callbacks.History): The history object returned from model training.\n",
        "    string (str): The metric to plot (e.g., 'accuracy' or 'loss').\n",
        "    \"\"\"\n",
        "    plt.plot(history.history[string])  # Plot the training metric\n",
        "    plt.plot(history.history['val_'+string])  # Plot the validation metric\n",
        "    plt.xlabel(\"Epochs\")  # X-axis label\n",
        "    plt.ylabel(string)  # Y-axis label\n",
        "    plt.legend([string, 'val_'+string])  # Legend to distinguish between training and validation\n",
        "    plt.show()  # Display the plot\n",
        "\n",
        "# Plot the accuracy and loss history using the defined function\n",
        "plot_graphs(history_conv, 'accuracy')  # Plot training and validation accuracy\n",
        "plot_graphs(history_conv, 'loss')  # Plot training and validation loss\n"
      ],
      "metadata": {
        "colab": {
          "base_uri": "https://localhost:8080/",
          "height": 881
        },
        "id": "jzvXbET16Z-Z",
        "outputId": "ac968fe9-aef9-45df-8d7b-1a0060d9c826"
      },
      "execution_count": 8,
      "outputs": [
        {
          "output_type": "display_data",
          "data": {
            "text/plain": [
              "<Figure size 640x480 with 1 Axes>"
            ],
            "image/png": "[encoded data removed]"
          },
          "metadata": {}
        },
        {
          "output_type": "display_data",
          "data": {
            "text/plain": [
              "<Figure size 640x480 with 1 Axes>"
            ],
            "image/png": "[encoded data removed]"
          },
          "metadata": {}
        }
      ]
    },
    {
      "cell_type": "code",
      "source": [],
      "metadata": {
        "id": "ICYEqfRJ6iK8"
      },
      "execution_count": 8,
      "outputs": []
    }
  ]
}