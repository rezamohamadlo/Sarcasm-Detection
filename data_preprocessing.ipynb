{
  "nbformat": 4,
  "nbformat_minor": 0,
  "metadata": {
    "colab": {
      "provenance": [],
      "authorship_tag": "ABX9TyP9e9pNvC0UkByJ78t7rGxM",
      "include_colab_link": true
    },
    "kernelspec": {
      "name": "python3",
      "display_name": "Python 3"
    },
    "language_info": {
      "name": "python"
    }
  },
  "cells": [
    {
      "cell_type": "markdown",
      "metadata": {
        "id": "view-in-github",
        "colab_type": "text"
      },
      "source": [
        "<a href=\"https://colab.research.google.com/github/rezamohamadlo/SarcasmDetectionUsingLSTM/blob/main/data_preprocessing.ipynb\" target=\"_parent\"><img src=\"https://colab.research.google.com/assets/colab-badge.svg\" alt=\"Open In Colab\"/></a>"
      ]
    },
    {
      "cell_type": "code",
      "execution_count": 2,
      "metadata": {
        "colab": {
          "base_uri": "https://localhost:8080/"
        },
        "id": "-ZcLoZUmQSwc",
        "outputId": "55591a99-5a5e-46a6-f51c-1e0af4a29860"
      },
      "outputs": [
        {
          "output_type": "stream",
          "name": "stdout",
          "text": [
            "--2024-09-06 12:14:38--  https://storage.googleapis.com/tensorflow-1-public/course3/sarcasm.json\n",
            "Resolving storage.googleapis.com (storage.googleapis.com)... 142.251.111.207, 142.251.163.207, 142.251.167.207, ...\n",
            "Connecting to storage.googleapis.com (storage.googleapis.com)|142.251.111.207|:443... connected.\n",
            "HTTP request sent, awaiting response... 200 OK\n",
            "Length: 5643545 (5.4M) [application/json]\n",
            "Saving to: ‘sarcasm.json’\n",
            "\n",
            "\rsarcasm.json          0%[                    ]       0  --.-KB/s               \rsarcasm.json        100%[===================>]   5.38M  --.-KB/s    in 0.06s   \n",
            "\n",
            "2024-09-06 12:14:38 (89.5 MB/s) - ‘sarcasm.json’ saved [5643545/5643545]\n",
            "\n",
            "Data preprocessing complete!\n"
          ]
        }
      ],
      "source": [
        "import json\n",
        "import numpy as np\n",
        "from tensorflow.keras.preprocessing.text import Tokenizer\n",
        "from tensorflow.keras.preprocessing.sequence import pad_sequences\n",
        "\n",
        "!wget https://storage.googleapis.com/tensorflow-1-public/course3/sarcasm.json\n",
        "\n",
        "# Load the JSON file\n",
        "with open(\"./sarcasm.json\", 'r') as f:\n",
        "    datastore = json.load(f)\n",
        "\n",
        "# Initialize lists for sentences and labels\n",
        "sentences = []\n",
        "labels = []\n",
        "\n",
        "# Collect sentences and labels from the dataset\n",
        "for item in datastore:\n",
        "    sentences.append(item['headline'])\n",
        "    labels.append(item['is_sarcastic'])\n",
        "\n",
        "# Define parameters for text preprocessing\n",
        "vocab_size = 10000  # Maximum number of unique words in the vocabulary\n",
        "max_length = 120  # Maximum length of sequences (pad or truncate to this length)\n",
        "trunc_type = 'post'  # Truncate sequences at the end\n",
        "padding_type = 'post'  # Pad sequences at the end\n",
        "oov_tok = \"<OOV>\"  # Token for out-of-vocabulary words\n",
        "\n",
        "# Initialize the Tokenizer class\n",
        "tokenizer = Tokenizer(num_words=vocab_size, oov_token=oov_tok)\n",
        "tokenizer.fit_on_texts(sentences)  # Build the word index based on the dataset\n",
        "word_index = tokenizer.word_index  # Retrieve the word index dictionary\n",
        "\n",
        "# Convert sentences to sequences of integers\n",
        "sequences = tokenizer.texts_to_sequences(sentences)\n",
        "\n",
        "# Pad sequences to ensure uniform input size\n",
        "padded_sequences = pad_sequences(sequences, maxlen=max_length, padding=padding_type, truncating=trunc_type)\n",
        "\n",
        "# Split the data into training and testing sets\n",
        "training_size = 22000\n",
        "training_sequences = padded_sequences[:training_size]\n",
        "testing_sequences = padded_sequences[training_size:]\n",
        "\n",
        "# Split the labels into training and testing sets\n",
        "training_labels = np.array(labels[:training_size])\n",
        "testing_labels = np.array(labels[training_size:])\n",
        "\n",
        "# Save the processed data to files (optional)\n",
        "np.save('training_sequences.npy', training_sequences)\n",
        "np.save('testing_sequences.npy', testing_sequences)\n",
        "np.save('training_labels.npy', training_labels)\n",
        "np.save('testing_labels.npy', testing_labels)\n",
        "\n",
        "print(\"Data preprocessing complete!\")\n"
      ]
    }
  ]
}